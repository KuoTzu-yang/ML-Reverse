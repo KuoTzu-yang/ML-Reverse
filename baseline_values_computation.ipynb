{
 "cells": [
  {
   "cell_type": "code",
   "execution_count": 1,
   "metadata": {},
   "outputs": [],
   "source": [
    "# Load packages which are frequently used through experiments\n",
    "import numpy as np\n",
    "\n",
    "import torch.nn as nn\n",
    "import torchvision\n",
    "import whitebox_model_extractor, torch\n",
    "\n",
    "import experiment_interface"
   ]
  },
  {
   "cell_type": "code",
   "execution_count": 2,
   "metadata": {},
   "outputs": [],
   "source": [
    "# Create an experiment interface\n",
    "interface = experiment_interface.ExperimentInterface()"
   ]
  },
  {
   "cell_type": "markdown",
   "metadata": {},
   "source": [
    "# The following blocks are for generating baseline values of a random-picked black-box neural network \n",
    "\n",
    "Procedures:\n",
    "1. Pick a black-box neural network randomly \n",
    "2. Generate a model without training but possess the same architecture and activation functions as the seleted black-box neural network & compute its accurancy\n",
    "3. Prepare all data required for computation of the three measurements \n",
    "4. Calculate three measurements (AAE/AAPE/The difference between prediction capabiltiy)"
   ]
  },
  {
   "cell_type": "code",
   "execution_count": 3,
   "metadata": {},
   "outputs": [],
   "source": [
    "# Procedure 1\n",
    "num_of_model_extracted = 1\n",
    "\n",
    "weights_dataset = interface.extract_whitebox_model_weights(num_of_model_extracted)\n",
    "predictions_dataset = interface.extract_whitebox_model_predictions(num_of_model_extracted)"
   ]
  },
  {
   "cell_type": "code",
   "execution_count": 4,
   "metadata": {},
   "outputs": [],
   "source": [
    "# Procedure 2\n",
    "class NeuralNet(nn.Module):\n",
    "    def __init__(self, input_size, hidden_size, output_size):\n",
    "        super().__init__()\n",
    "        self.layer1 = nn.Linear(input_size, hidden_size)\n",
    "        self.layer2 = nn.Linear(hidden_size, output_size)\n",
    "        self.relu = nn.ReLU()\n",
    "\n",
    "    def forward(self, x):\n",
    "        output = self.layer1(x)\n",
    "        output = self.relu(output)\n",
    "        output = self.layer2(output)\n",
    "        return output \n",
    "\n",
    "input_size, hidden_size, output_size = 784, 64, 10\n",
    "model = NeuralNet(input_size, hidden_size, output_size)"
   ]
  },
  {
   "cell_type": "code",
   "execution_count": 5,
   "metadata": {},
   "outputs": [],
   "source": [
    "def compute_accurancy_for_randomly_generated_model(model):\n",
    "    test_dataset = torchvision.datasets.MNIST(root='./data', train=False, transform=torchvision.transforms.ToTensor(), download=True)\n",
    "    test_loader = torch.utils.data.DataLoader(dataset=test_dataset, batch_size=10000, shuffle=False)\n",
    "    input_size, device, accurancy = 784, 'cpu', None\n",
    "\n",
    "    with torch.no_grad():\n",
    "        correct = 0\n",
    "        total = 0\n",
    "        for _, (images, labels) in enumerate(test_loader):\n",
    "            images = images.reshape(-1, input_size).to(device)\n",
    "            labels = labels.to(device)\n",
    "            outputs = model(images)\n",
    "            _, predictions = torch.max(outputs.data, 1)\n",
    "\n",
    "            total += labels.size(0)\n",
    "            correct += (predictions == labels).sum().item()\n",
    "\n",
    "            accurancy = 100 * correct / total\n",
    "    \n",
    "    return accurancy\n",
    "\n",
    "def compute_accurancy_for_the_blackbox_model(predictions):\n",
    "    test_dataset = torchvision.datasets.MNIST(root='./data', train=False, transform=torchvision.transforms.ToTensor(), download=True)\n",
    "    test_loader = torch.utils.data.DataLoader(dataset=test_dataset, batch_size=10000, shuffle=False)\n",
    "    input_size, device, accurancy = 784, 'cpu', None\n",
    "\n",
    "    with torch.no_grad():\n",
    "        correct = 0\n",
    "        total = 0\n",
    "        for _, (_, labels) in enumerate(test_loader):\n",
    "            total += labels.size(0)\n",
    "            correct += (predictions == labels).sum().item()\n",
    "\n",
    "            accurancy = 100 * correct / total\n",
    "    \n",
    "    return accurancy\n",
    "\n",
    "# Procedure 3\n",
    "\n",
    "# Extract weights and accurancy from the black-box neural network\n",
    "weight_values = weights_dataset[0]\n",
    "prediction_values = predictions_dataset[0]\n",
    "prediction_values = torch.from_numpy(np.int64(prediction_values))\n",
    "accurancy = compute_accurancy_for_the_blackbox_model(prediction_values)\n",
    "\n",
    "# Extract weights and accurancy from the randomly generated model \n",
    "Extractor = whitebox_model_extractor.WhiteboxModelExtractor()\n",
    "weight_values_prime = Extractor.parse_single_whitebox_model_weights(model.state_dict())\n",
    "accurancy_prime = compute_accurancy_for_randomly_generated_model(model)"
   ]
  },
  {
   "cell_type": "code",
   "execution_count": 6,
   "metadata": {},
   "outputs": [
    {
     "name": "stdout",
     "output_type": "stream",
     "text": [
      "Calculating AAE (Average Absolute Error) ...\n",
      "0.049205514084641924\n",
      "Calculating AAPE (Average Absolute Percentage Error) ...\n",
      "3.6545634568971144\n",
      "Calculating The difference between prediction capabiltiy ...\n",
      "0.8313000000000001\n"
     ]
    }
   ],
   "source": [
    "# Procedure 4\n",
    "# a. AAE\n",
    "print('Calculating AAE (Average Absolute Error) ...')\n",
    "absolute_errors = np.abs(weight_values_prime - weight_values)\n",
    "average_absolute_error = np.mean(absolute_errors)\n",
    "print(average_absolute_error)\n",
    "\n",
    "# b. AAPE\n",
    "print('Calculating AAPE (Average Absolute Percentage Error) ...')\n",
    "absolute_percentage_errors = np.abs((weight_values_prime - weight_values)/weight_values)\n",
    "average_absolute_percentage_error = np.mean(absolute_percentage_errors)\n",
    "print(average_absolute_percentage_error)\n",
    "\n",
    "# c. The difference between prediction capabiltiy\n",
    "print('Calculating The difference between prediction capabiltiy ...')\n",
    "accurancy_diff = np.abs(accurancy_prime - accurancy)/100\n",
    "print(accurancy_diff)\n"
   ]
  }
 ],
 "metadata": {
  "kernelspec": {
   "display_name": "Python 3",
   "language": "python",
   "name": "python3"
  },
  "language_info": {
   "codemirror_mode": {
    "name": "ipython",
    "version": 3
   },
   "file_extension": ".py",
   "mimetype": "text/x-python",
   "name": "python",
   "nbconvert_exporter": "python",
   "pygments_lexer": "ipython3",
   "version": "3.6.8"
  }
 },
 "nbformat": 4,
 "nbformat_minor": 2
}
